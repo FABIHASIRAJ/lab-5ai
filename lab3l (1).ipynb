{
 "cells": [
  {
   "cell_type": "code",
   "execution_count": 1,
   "id": "cf807d88-f783-49dc-af61-45937500c726",
   "metadata": {},
   "outputs": [
    {
     "name": "stdout",
     "output_type": "stream",
     "text": [
      "Distances from the query point: [1.41421356 0.         1.41421356 2.82842712]\n",
      "Nearest Neighbors (Classes): ['B', 'A', 'A']\n",
      "Predicted Classification for the query point: A\n"
     ]
    }
   ],
   "source": [
    "import numpy as np\n",
    "\n",
    "# Define the training samples (coordinates) and their corresponding classes\n",
    "X_train = np.array([[2, 6], [3, 7], [4, 8], [5, 5]])  # Training samples (coordinates)\n",
    "y_train = ['A', 'B', 'A', 'B']  # Classes corresponding to the training samples\n",
    "\n",
    "# Define the query instance (3, 7)\n",
    "query_point = np.array([3, 7])\n",
    "\n",
    "# Calculate Euclidean distances between the query point and all the training samples\n",
    "distances = np.linalg.norm(X_train - query_point, axis=1)\n",
    "\n",
    "# Print the distances to see how far each sample is from the query point\n",
    "print(\"Distances from the query point:\", distances)\n",
    "\n",
    "# Sort the distances in ascending order and get the indices of the nearest neighbors\n",
    "sorted_indices = np.argsort(distances)\n",
    "\n",
    "# Get the classes of the nearest neighbors\n",
    "nearest_neighbors = [y_train[i] for i in sorted_indices[:3]]\n",
    "\n",
    "# Print the nearest neighbors and their classes\n",
    "print(\"Nearest Neighbors (Classes):\", nearest_neighbors)\n",
    "\n",
    "# Perform majority voting to predict the class of the query point\n",
    "prediction = max(set(nearest_neighbors), key=nearest_neighbors.count)\n",
    "\n",
    "# Print the predicted class\n",
    "print(\"Predicted Classification for the query point:\", prediction)\n"
   ]
  },
  {
   "cell_type": "code",
   "execution_count": 1,
   "id": "dcfc0b60-9e11-4a2e-baf0-fafd1f374363",
   "metadata": {},
   "outputs": [
    {
     "name": "stdout",
     "output_type": "stream",
     "text": [
      "Nearest neighbors: [(3.0, 'Good'), (3.605551275463989, 'Good')]\n",
      "Predicted classification: Good\n"
     ]
    }
   ],
   "source": [
    "import numpy as np\n",
    "from scipy.spatial import distance\n",
    "\n",
    "# Training data\n",
    "training_data = [\n",
    "    {\"X1\": 7, \"X2\": 7, \"Classification\": \"Bad\"},\n",
    "    {\"X1\": 7, \"X2\": 4, \"Classification\": \"Bad\"},\n",
    "    {\"X1\": 3, \"X2\": 4, \"Classification\": \"Good\"},\n",
    "    {\"X1\": 1, \"X2\": 4, \"Classification\": \"Good\"}\n",
    "]\n",
    "\n",
    "# New tissue to classify\n",
    "new_tissue = {\"X1\": 3, \"X2\": 7}\n",
    "\n",
    "# Calculate distances\n",
    "distances = []\n",
    "for data_point in training_data:\n",
    "    dist = distance.euclidean(\n",
    "        (new_tissue[\"X1\"], new_tissue[\"X2\"]),\n",
    "        (data_point[\"X1\"], data_point[\"X2\"])\n",
    "    )\n",
    "    distances.append((dist, data_point[\"Classification\"]))\n",
    "\n",
    "# Sort distances (smallest distance first)\n",
    "distances.sort(key=lambda x: x[0])\n",
    "\n",
    "# Number of nearest neighbors (k)\n",
    "k = 2\n",
    "\n",
    "# Get the classifications of the k nearest neighbors\n",
    "nearest_neighbors = distances[:k]\n",
    "classifications = [neighbor[1] for neighbor in nearest_neighbors]\n",
    "\n",
    "# Predict classification (majority vote)\n",
    "prediction = max(set(classifications), key=classifications.count)\n",
    "\n",
    "print(\"Nearest neighbors:\", nearest_neighbors)\n",
    "print(\"Predicted classification:\", prediction)\n"
   ]
  },
  {
   "cell_type": "code",
   "execution_count": null,
   "id": "5897c44e-0be6-43e7-a633-1d979818c5f0",
   "metadata": {},
   "outputs": [],
   "source": []
  },
  {
   "cell_type": "code",
   "execution_count": null,
   "id": "e55a92b9-bfcc-42b1-b7c6-0dd31780f159",
   "metadata": {},
   "outputs": [],
   "source": []
  },
  {
   "cell_type": "code",
   "execution_count": null,
   "id": "b48a77e8-67a1-410e-a31a-956eee2e192a",
   "metadata": {},
   "outputs": [],
   "source": []
  }
 ],
 "metadata": {
  "kernelspec": {
   "display_name": "Python 3 (ipykernel)",
   "language": "python",
   "name": "python3"
  },
  "language_info": {
   "codemirror_mode": {
    "name": "ipython",
    "version": 3
   },
   "file_extension": ".py",
   "mimetype": "text/x-python",
   "name": "python",
   "nbconvert_exporter": "python",
   "pygments_lexer": "ipython3",
   "version": "3.12.7"
  }
 },
 "nbformat": 4,
 "nbformat_minor": 5
}
