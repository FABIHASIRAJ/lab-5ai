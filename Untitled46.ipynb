{
 "cells": [
  {
   "cell_type": "code",
   "execution_count": 1,
   "id": "4425bf31-b4b8-443f-a061-f9d26ea00b74",
   "metadata": {},
   "outputs": [],
   "source": [
    "\n",
    "from sklearn import preprocessing\n",
    "from sklearn.neighbors import KNeighborsClassifier\n",
    "from sklearn.metrics import confusion_matrix, accuracy_score\n",
    "from sklearn.model_selection import train_test_split"
   ]
  },
  {
   "cell_type": "code",
   "execution_count": 2,
   "id": "1e5f9f93-e301-4eef-90c3-859dce1638dc",
   "metadata": {},
   "outputs": [],
   "source": [
    "weather = ['sunny', 'sunny', 'overcast', 'rainy','rainy', 'rainy','overcast','sunny', 'sunny','rainy','sunny','overcast','overcast','rainy']\n",
    "temperature = ['hot', 'hot', 'hot', 'mild', 'cool', 'cool', 'cool', 'mild', 'cool', 'mild', 'mild', 'mild','hot', 'mild']\n",
    "play = ['no', 'no', 'yes', 'yes', 'yes','no', 'yes', 'no', 'yes', 'yes', 'yes', 'yes', 'yes','no']"
   ]
  },
  {
   "cell_type": "code",
   "execution_count": 3,
   "id": "f2624e0c-9bcd-4bfc-8595-110205d03704",
   "metadata": {},
   "outputs": [],
   "source": [
    "le = preprocessing.LabelEncoder()"
   ]
  },
  {
   "cell_type": "code",
   "execution_count": 4,
   "id": "d13bfd31-2c50-42d9-b2a3-98b589327685",
   "metadata": {},
   "outputs": [],
   "source": [
    "weather_encoded=le.fit_transform(weather)"
   ]
  },
  {
   "cell_type": "code",
   "execution_count": 5,
   "id": "84c1478d-8758-4740-a410-0cdd55c0f71d",
   "metadata": {},
   "outputs": [],
   "source": [
    "temperature_encoded=le.fit_transform(temperature)"
   ]
  },
  {
   "cell_type": "code",
   "execution_count": 6,
   "id": "3955048b-cd84-433b-9558-b3f56588e4c6",
   "metadata": {},
   "outputs": [],
   "source": [
    "play_encoded=le.fit_transform(play)"
   ]
  },
  {
   "cell_type": "code",
   "execution_count": 7,
   "id": "3fe1904f-c839-4b2e-8f16-10f4fea213ce",
   "metadata": {},
   "outputs": [],
   "source": [
    "features=list(zip(weather_encoded,temperature_encoded))"
   ]
  },
  {
   "cell_type": "code",
   "execution_count": 8,
   "id": "ae651cb4-708b-4a17-a6d2-8613563d5519",
   "metadata": {},
   "outputs": [],
   "source": [
    "from sklearn.model_selection import train_test_split"
   ]
  },
  {
   "cell_type": "code",
   "execution_count": 9,
   "id": "062c3419-bab9-4924-a6e1-b15f48e54719",
   "metadata": {},
   "outputs": [],
   "source": [
    "features_train, features_test,label_train,label_test=train_test_split(features, play_encoded, test_size=0.2, random_state=42)"
   ]
  },
  {
   "cell_type": "code",
   "execution_count": 10,
   "id": "cec071d3-9107-4a7c-b3f1-2bcf5a9aac43",
   "metadata": {},
   "outputs": [],
   "source": [
    "model = KNeighborsClassifier(n_neighbors=3, metric='euclidean')"
   ]
  },
  {
   "cell_type": "code",
   "execution_count": 11,
   "id": "bc52272e-9abe-47b1-a2b7-c9b8849def32",
   "metadata": {},
   "outputs": [
    {
     "data": {
      "text/html": [
       "<style>#sk-container-id-1 {color: black;background-color: white;}#sk-container-id-1 pre{padding: 0;}#sk-container-id-1 div.sk-toggleable {background-color: white;}#sk-container-id-1 label.sk-toggleable__label {cursor: pointer;display: block;width: 100%;margin-bottom: 0;padding: 0.3em;box-sizing: border-box;text-align: center;}#sk-container-id-1 label.sk-toggleable__label-arrow:before {content: \"▸\";float: left;margin-right: 0.25em;color: #696969;}#sk-container-id-1 label.sk-toggleable__label-arrow:hover:before {color: black;}#sk-container-id-1 div.sk-estimator:hover label.sk-toggleable__label-arrow:before {color: black;}#sk-container-id-1 div.sk-toggleable__content {max-height: 0;max-width: 0;overflow: hidden;text-align: left;background-color: #f0f8ff;}#sk-container-id-1 div.sk-toggleable__content pre {margin: 0.2em;color: black;border-radius: 0.25em;background-color: #f0f8ff;}#sk-container-id-1 input.sk-toggleable__control:checked~div.sk-toggleable__content {max-height: 200px;max-width: 100%;overflow: auto;}#sk-container-id-1 input.sk-toggleable__control:checked~label.sk-toggleable__label-arrow:before {content: \"▾\";}#sk-container-id-1 div.sk-estimator input.sk-toggleable__control:checked~label.sk-toggleable__label {background-color: #d4ebff;}#sk-container-id-1 div.sk-label input.sk-toggleable__control:checked~label.sk-toggleable__label {background-color: #d4ebff;}#sk-container-id-1 input.sk-hidden--visually {border: 0;clip: rect(1px 1px 1px 1px);clip: rect(1px, 1px, 1px, 1px);height: 1px;margin: -1px;overflow: hidden;padding: 0;position: absolute;width: 1px;}#sk-container-id-1 div.sk-estimator {font-family: monospace;background-color: #f0f8ff;border: 1px dotted black;border-radius: 0.25em;box-sizing: border-box;margin-bottom: 0.5em;}#sk-container-id-1 div.sk-estimator:hover {background-color: #d4ebff;}#sk-container-id-1 div.sk-parallel-item::after {content: \"\";width: 100%;border-bottom: 1px solid gray;flex-grow: 1;}#sk-container-id-1 div.sk-label:hover label.sk-toggleable__label {background-color: #d4ebff;}#sk-container-id-1 div.sk-serial::before {content: \"\";position: absolute;border-left: 1px solid gray;box-sizing: border-box;top: 0;bottom: 0;left: 50%;z-index: 0;}#sk-container-id-1 div.sk-serial {display: flex;flex-direction: column;align-items: center;background-color: white;padding-right: 0.2em;padding-left: 0.2em;position: relative;}#sk-container-id-1 div.sk-item {position: relative;z-index: 1;}#sk-container-id-1 div.sk-parallel {display: flex;align-items: stretch;justify-content: center;background-color: white;position: relative;}#sk-container-id-1 div.sk-item::before, #sk-container-id-1 div.sk-parallel-item::before {content: \"\";position: absolute;border-left: 1px solid gray;box-sizing: border-box;top: 0;bottom: 0;left: 50%;z-index: -1;}#sk-container-id-1 div.sk-parallel-item {display: flex;flex-direction: column;z-index: 1;position: relative;background-color: white;}#sk-container-id-1 div.sk-parallel-item:first-child::after {align-self: flex-end;width: 50%;}#sk-container-id-1 div.sk-parallel-item:last-child::after {align-self: flex-start;width: 50%;}#sk-container-id-1 div.sk-parallel-item:only-child::after {width: 0;}#sk-container-id-1 div.sk-dashed-wrapped {border: 1px dashed gray;margin: 0 0.4em 0.5em 0.4em;box-sizing: border-box;padding-bottom: 0.4em;background-color: white;}#sk-container-id-1 div.sk-label label {font-family: monospace;font-weight: bold;display: inline-block;line-height: 1.2em;}#sk-container-id-1 div.sk-label-container {text-align: center;}#sk-container-id-1 div.sk-container {/* jupyter's `normalize.less` sets `[hidden] { display: none; }` but bootstrap.min.css set `[hidden] { display: none !important; }` so we also need the `!important` here to be able to override the default hidden behavior on the sphinx rendered scikit-learn.org. See: https://github.com/scikit-learn/scikit-learn/issues/21755 */display: inline-block !important;position: relative;}#sk-container-id-1 div.sk-text-repr-fallback {display: none;}</style><div id=\"sk-container-id-1\" class=\"sk-top-container\"><div class=\"sk-text-repr-fallback\"><pre>KNeighborsClassifier(metric=&#x27;euclidean&#x27;, n_neighbors=3)</pre><b>In a Jupyter environment, please rerun this cell to show the HTML representation or trust the notebook. <br />On GitHub, the HTML representation is unable to render, please try loading this page with nbviewer.org.</b></div><div class=\"sk-container\" hidden><div class=\"sk-item\"><div class=\"sk-estimator sk-toggleable\"><input class=\"sk-toggleable__control sk-hidden--visually\" id=\"sk-estimator-id-1\" type=\"checkbox\" checked><label for=\"sk-estimator-id-1\" class=\"sk-toggleable__label sk-toggleable__label-arrow\">KNeighborsClassifier</label><div class=\"sk-toggleable__content\"><pre>KNeighborsClassifier(metric=&#x27;euclidean&#x27;, n_neighbors=3)</pre></div></div></div></div></div>"
      ],
      "text/plain": [
       "KNeighborsClassifier(metric='euclidean', n_neighbors=3)"
      ]
     },
     "execution_count": 11,
     "metadata": {},
     "output_type": "execute_result"
    }
   ],
   "source": [
    "model.fit(features_train, label_train)"
   ]
  },
  {
   "cell_type": "code",
   "execution_count": 12,
   "id": "3c4c9fca-1fb8-46f7-8231-f1cd84b734b9",
   "metadata": {},
   "outputs": [],
   "source": [
    "predicted = model.predict(features_test)"
   ]
  },
  {
   "cell_type": "code",
   "execution_count": 13,
   "id": "b91b898c-f93c-48ac-8dcd-d96a628fa91b",
   "metadata": {},
   "outputs": [
    {
     "name": "stdout",
     "output_type": "stream",
     "text": [
      "Prediction: [0 1 0]\n"
     ]
    }
   ],
   "source": [
    "print(\"Prediction:\", predicted)"
   ]
  },
  {
   "cell_type": "code",
   "execution_count": 14,
   "id": "19c5dc0f-7369-47fe-8482-f860270ea6a2",
   "metadata": {},
   "outputs": [
    {
     "name": "stdout",
     "output_type": "stream",
     "text": [
      "Confusion Matrix:\n",
      "[[1 0]\n",
      " [1 1]]\n"
     ]
    }
   ],
   "source": [
    "conf_mat = confusion_matrix(label_test, predicted)\n",
    "print(\"Confusion Matrix:\")\n",
    "print(conf_mat)\n"
   ]
  },
  {
   "cell_type": "code",
   "execution_count": 15,
   "id": "e8d25752-f967-4f89-baa2-6774e24a27f0",
   "metadata": {},
   "outputs": [
    {
     "name": "stdout",
     "output_type": "stream",
     "text": [
      "Accuracy: 0.6666666666666666\n"
     ]
    }
   ],
   "source": [
    "accuracy = accuracy_score(label_test, predicted)\n",
    "print(\"Accuracy:\", accuracy)"
   ]
  },
  {
   "cell_type": "code",
   "execution_count": 20,
   "id": "6759f6ae-f6ab-47ea-9c84-9285283300c6",
   "metadata": {},
   "outputs": [
    {
     "name": "stdout",
     "output_type": "stream",
     "text": [
      "Nearest Neighbors and their Distances:\n",
      "Sample: (X1=3, X2=4, Y=Good), Distance: 3.00\n",
      "Sample: (X1=1, X2=4, Y=Good), Distance: 3.61\n",
      "Sample: (X1=7, X2=7, Y=Bad), Distance: 4.00\n",
      "Sample: (X1=7, X2=4, Y=Bad), Distance: 5.00\n",
      "\n",
      "Predicted Classification for the query instance: Good\n"
     ]
    }
   ],
   "source": [
    "import math\n",
    "from collections import Counter\n",
    "\n",
    "# Define training samples with X1 (acid durability), X2 (strength), and Y (classification)\n",
    "training_samples = [\n",
    "    {'X1': 7, 'X2': 7, 'Y': 'Bad'},\n",
    "    {'X1': 7, 'X2': 4, 'Y': 'Bad'},\n",
    "    {'X1': 3, 'X2': 4, 'Y': 'Good'},\n",
    "    {'X1': 1, 'X2': 4, 'Y': 'Good'}\n",
    "]\n",
    "\n",
    "# Query instance coordinates\n",
    "query_instance = {'X1': 3, 'X2': 7}\n",
    "\n",
    "# Function to calculate Euclidean distance\n",
    "def euclidean_distance(sample, query):\n",
    "    return math.sqrt((sample['X1'] - query['X1']) ** 2 + (sample['X2'] - query['X2']) ** 2)\n",
    "\n",
    "# Calculate distances from the query instance to each training sample\n",
    "for sample in training_samples:\n",
    "    sample['distance'] = euclidean_distance(sample, query_instance)\n",
    "\n",
    "# Sort the training samples by distance\n",
    "sorted_samples = sorted(training_samples, key=lambda x: x['distance'])\n",
    "\n",
    "# Get the classes of the 3 nearest neighbors\n",
    "k = 4\n",
    "nearest_neighbors = sorted_samples[:k]\n",
    "nearest_classes = [neighbor['Y'] for neighbor in nearest_neighbors]\n",
    "\n",
    "# Determine the most common class among the nearest neighbors\n",
    "predicted_class = Counter(nearest_classes).most_common(1)[0][0]\n",
    "\n",
    "# Output the results\n",
    "print(\"Nearest Neighbors and their Distances:\")\n",
    "for neighbor in nearest_neighbors:\n",
    "    print(f\"Sample: (X1={neighbor['X1']}, X2={neighbor['X2']}, Y={neighbor['Y']}), Distance: {neighbor['distance']:.2f}\")\n",
    "\n",
    "print(f\"\\nPredicted Classification for the query instance: {predicted_class}\")\n"
   ]
  },
  {
   "cell_type": "code",
   "execution_count": null,
   "id": "24635e2c-4f12-43e1-91ff-9f21de06446e",
   "metadata": {},
   "outputs": [],
   "source": []
  }
 ],
 "metadata": {
  "kernelspec": {
   "display_name": "Python 3 (ipykernel)",
   "language": "python",
   "name": "python3"
  },
  "language_info": {
   "codemirror_mode": {
    "name": "ipython",
    "version": 3
   },
   "file_extension": ".py",
   "mimetype": "text/x-python",
   "name": "python",
   "nbconvert_exporter": "python",
   "pygments_lexer": "ipython3",
   "version": "3.11.7"
  }
 },
 "nbformat": 4,
 "nbformat_minor": 5
}
